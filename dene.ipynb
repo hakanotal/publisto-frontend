{
 "cells": [
  {
   "cell_type": "code",
   "execution_count": null,
   "metadata": {},
   "outputs": [],
   "source": []
  },
  {
   "attachments": {},
   "cell_type": "markdown",
   "metadata": {},
   "source": [
    "$$ L = -\\frac{1}{N}\\sum_{i=1}^N\\left[y_i\\log(\\hat{y}_i) + (1 - y_i)\\log(1 - \\hat{y}_i)\\right] $$"
   ]
  },
  {
   "attachments": {},
   "cell_type": "markdown",
   "metadata": {},
   "source": [
    "$$ L = -\\frac{1}{N}\\sum_{i=1}^N\\sum_{j=1}^My_{i,j}\\log(\\hat{y}_{i,j}) $$"
   ]
  },
  {
   "attachments": {},
   "cell_type": "markdown",
   "metadata": {},
   "source": [
    "In this equation, $N$ is the number of samples, $M$ is the number of classes, $y_{i,j}$ is the true label of the $i$-th sample for the $j$-th class (0 or 1), and $\\hat{y}_{i,j}$ is the predicted probability that the $i$-th sample belongs to the $j$-th class. The multiclass cross-entropy loss is the negative average of the sum of the log of the predicted probabilities."
   ]
  },
  {
   "cell_type": "code",
   "execution_count": null,
   "metadata": {},
   "outputs": [],
   "source": []
  }
 ],
 "metadata": {
  "language_info": {
   "name": "python"
  },
  "orig_nbformat": 4
 },
 "nbformat": 4,
 "nbformat_minor": 2
}
